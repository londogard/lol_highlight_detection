{
 "cells": [
  {
   "cell_type": "raw",
   "metadata": {},
   "source": [
    "---\n",
    "title: \"A Hobbyist's Approach to Automated Highlight Detection in E-Sports\"\n",
    "author: \"Hampus Londögåtd\"\n",
    "format: \n",
    "    revealjs:\n",
    "        incremental: true   \n",
    "---"
   ]
  },
  {
   "cell_type": "markdown",
   "metadata": {},
   "source": [
    "# A Hobbyist's Approach to Automated Highlight Detection in E-Sports \n"
   ]
  },
  {
   "cell_type": "markdown",
   "metadata": {},
   "source": [
    "## The Idea^tm^\n",
    "\n",
    "![](imgs/idea_1.png)"
   ]
  },
  {
   "cell_type": "markdown",
   "metadata": {},
   "source": [
    "## The Idea^tm^\n",
    "\n",
    "![](imgs/idea_2.png)"
   ]
  },
  {
   "cell_type": "markdown",
   "metadata": {},
   "source": [
    "## The Idea^tm^\n",
    "\n",
    "![](imgs/idea_3.png)"
   ]
  },
  {
   "cell_type": "markdown",
   "metadata": {},
   "source": [
    "## The Idea^tm^\n",
    "\n",
    "![](imgs/idea_4.png)"
   ]
  },
  {
   "cell_type": "markdown",
   "metadata": {},
   "source": [
    "## The Idea^tm^\n",
    "\n",
    "![](imgs/idea_5.png)"
   ]
  },
  {
   "cell_type": "markdown",
   "metadata": {},
   "source": [
    "## The Idea^tm^\n",
    "\n",
    "![](imgs/idea_6.png)"
   ]
  },
  {
   "cell_type": "markdown",
   "metadata": {},
   "source": [
    "# The How\n",
    "\n",
    "Result must be...\n",
    "- Easy to use\n",
    "- Assist, not hinder\n",
    "- Simply... great!"
   ]
  },
  {
   "cell_type": "markdown",
   "metadata": {},
   "source": [
    "# The End Result\n",
    "\n",
    "- I'll share details and code ;)"
   ]
  },
  {
   "cell_type": "markdown",
   "metadata": {},
   "source": [
    "## The End Result\n",
    "\n",
    "![](imgs/loop_1.png)\n",
    "\n",
    "![](imgs/loop_2.png)\n",
    "\n",
    "![](imgs/loop_3.png)\n",
    "![](imgs/loop_4.png)\n",
    "![](imgs/loop_5.png)\n",
    "![](imgs/loop_6.png)"
   ]
  },
  {
   "cell_type": "markdown",
   "metadata": {},
   "source": [
    "## The Tools\n",
    "\n",
    "![]"
   ]
  },
  {
   "cell_type": "markdown",
   "metadata": {},
   "source": [
    "\n",
    "'"
   ]
  },
  {
   "cell_type": "markdown",
   "metadata": {},
   "source": []
  },
  {
   "cell_type": "markdown",
   "metadata": {},
   "source": []
  },
  {
   "cell_type": "markdown",
   "metadata": {},
   "source": []
  },
  {
   "cell_type": "markdown",
   "metadata": {},
   "source": [
    "## Tools used\n",
    "\n",
    "1. FFMPEG\n",
    "2. Polars (crazy good DataFrame)\n",
    "3. LIME (XAI)\n",
    "4. `.parquet` file format\n",
    "5. MLFlow Experiment tracker with DagsHub\n",
    "6. "
   ]
  },
  {
   "cell_type": "markdown",
   "metadata": {},
   "source": [
    "## Challenges\n",
    "\n",
    "1. FFMPEG\n",
    "2. ... splits!\n",
    "3. ...\n",
    "\n",
    "..."
   ]
  },
  {
   "cell_type": "markdown",
   "metadata": {},
   "source": [
    "## Final Result\n",
    "\n",
    "Solara is like Streamlit but integrateable inside notebooks & gives you an React-like interface (more efficent, but \"harder\")\n",
    "\n",
    "This means that I can have a simple-pleasant UI for someone completely non-tech to take part of. Pretty awesome!\n",
    "\n",
    "Usually I'd have someone use Streamlit though :)\n",
    "\n",
    "..."
   ]
  },
  {
   "cell_type": "markdown",
   "metadata": {},
   "source": []
  },
  {
   "cell_type": "markdown",
   "metadata": {},
   "source": [
    "In this talk, I'll share insights from my personal project over the past few months to build a simple tool for non-technical users that automatically detects highlight moments from LoL streams. Through a live demo and discussion of techniques applied to tasks like video preprocessing, model architecture selection (CNN/RNN), and model evaluation, I'll cover lessons learned from bringing this automated highlight detection idea to life."
   ]
  },
  {
   "cell_type": "markdown",
   "metadata": {},
   "source": [
    "![Alt text](image.png)"
   ]
  },
  {
   "cell_type": "code",
   "execution_count": null,
   "metadata": {},
   "outputs": [],
   "source": []
  }
 ],
 "metadata": {
  "language_info": {
   "name": "python"
  },
  "orig_nbformat": 4
 },
 "nbformat": 4,
 "nbformat_minor": 2
}
