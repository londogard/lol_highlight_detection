{
 "cells": [
  {
   "cell_type": "raw",
   "metadata": {},
   "source": [
    "---\n",
    "title: \"A Hobbyist's Approach to Automated Highlight Detection in E-Sports\"\n",
    "author: \"Hampus Londögåtd\"\n",
    "format: \n",
    "    revealjs:\n",
    "        incremental: true   \n",
    "---"
   ]
  },
  {
   "cell_type": "markdown",
   "metadata": {},
   "source": [
    "# About Me\n",
    "\n",
    "..."
   ]
  },
  {
   "cell_type": "markdown",
   "metadata": {},
   "source": [
    "# The Presentation\n",
    "\n",
    "::: {.notes}\n",
    "In this talk, I'll share insights from my personal project over the past few months to build a simple tool for non-technical users that automatically detects highlight moments from LoL streams. Through a live demo and discussion of techniques applied to tasks like video preprocessing, model architecture selection (CNN/RNN), and model evaluation, I'll cover lessons learned from bringing this automated highlight detection idea to life.\n",
    ":::"
   ]
  },
  {
   "cell_type": "markdown",
   "metadata": {},
   "source": [
    "## The Idea^tm^\n",
    "\n",
    "## The Idea^tm^\n",
    "\n",
    "![](imgs/idea_1.png)"
   ]
  },
  {
   "cell_type": "markdown",
   "metadata": {},
   "source": [
    "## The Idea^tm^\n",
    "\n",
    "![](imgs/idea_2.png)"
   ]
  },
  {
   "cell_type": "markdown",
   "metadata": {},
   "source": [
    "## The Idea^tm^\n",
    "\n",
    "![](imgs/idea_3.png)"
   ]
  },
  {
   "cell_type": "markdown",
   "metadata": {},
   "source": [
    "## The Idea^tm^\n",
    "\n",
    "![](imgs/idea_4.png)"
   ]
  },
  {
   "cell_type": "markdown",
   "metadata": {},
   "source": [
    "## The Idea^tm^\n",
    "\n",
    "![](imgs/idea_5.png)"
   ]
  },
  {
   "cell_type": "markdown",
   "metadata": {},
   "source": [
    "## The Idea^tm^\n",
    "\n",
    "![](profit.png)"
   ]
  },
  {
   "cell_type": "markdown",
   "metadata": {},
   "source": [
    "# The Requirements\n",
    "\n",
    "Result must be...\n",
    "\n",
    "- Easy to use\n",
    "- Assist, not hinder\n",
    "- Impressive!"
   ]
  },
  {
   "cell_type": "markdown",
   "metadata": {},
   "source": [
    "# The How\n",
    "\n",
    "- I'll share details and code ;)"
   ]
  },
  {
   "cell_type": "markdown",
   "metadata": {},
   "source": [
    "## The How\n",
    "\n",
    "![](imgs/loop_1.png)\n",
    "\n",
    "## The How\n",
    "\n",
    "![](imgs/loop_2.png)\n",
    "\n",
    "## The How\n",
    "\n",
    "![](imgs/loop_3.png)\n",
    "\n",
    "## The How\n",
    "\n",
    "![](imgs/loop_4.png)\n",
    "\n",
    "## The How\n",
    "\n",
    "![](imgs/loop_5.png)\n",
    "\n",
    "## The How\n",
    "\n",
    "![](imgs/loop_6.png)"
   ]
  },
  {
   "cell_type": "markdown",
   "metadata": {},
   "source": [
    "## The Tools\n",
    "\n",
    "![](tool_1.png)\n",
    "\n",
    "## The Tools\n",
    "![](tool_2.png)\n",
    "\n",
    "## The Tools\n",
    "![](tool_3.png)\n",
    "\n",
    "## The Tools\n",
    "![](tool_4.png)\n",
    "\n",
    "## The Tools\n",
    "![](tool_5.png)"
   ]
  },
  {
   "cell_type": "markdown",
   "metadata": {},
   "source": [
    "## Challenges\n",
    "\n",
    "1. FFMPEG\n",
    "2. Balancing data / splits!\n",
    "3. Getting good data"
   ]
  },
  {
   "cell_type": "markdown",
   "metadata": {},
   "source": [
    "## Final Result\n",
    "\n",
    "Solara is like Streamlit but integrateable inside notebooks & gives you an React-like interface (more efficent, but \"harder\")\n",
    "\n",
    "This means that I can have a simple-pleasant UI for someone completely non-tech to take part of. Pretty awesome!\n",
    "\n",
    "Usually I'd have someone use Streamlit though :)\n",
    "\n",
    "..."
   ]
  }
 ],
 "metadata": {
  "language_info": {
   "name": "python"
  },
  "orig_nbformat": 4
 },
 "nbformat": 4,
 "nbformat_minor": 2
}
