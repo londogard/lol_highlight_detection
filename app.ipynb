{
 "cells": [
  {
   "cell_type": "code",
   "execution_count": null,
   "metadata": {},
   "outputs": [],
   "source": [
    "!pip install solara"
   ]
  },
  {
   "cell_type": "code",
   "execution_count": 2,
   "metadata": {},
   "outputs": [
    {
     "data": {
      "application/vnd.jupyter.widget-view+json": {
       "model_id": "7de53bd5faff4c29b2fb3b87881ad845",
       "version_major": 2,
       "version_minor": 0
      },
      "text/html": [
       "Cannot show widget. You probably want to rerun the code cell above (<i>Click in the code cell, and press Shift+Enter <kbd>⇧</kbd>+<kbd>↩</kbd></i>)."
      ],
      "text/plain": [
       "Cannot show ipywidgets in text"
      ]
     },
     "metadata": {},
     "output_type": "display_data"
    }
   ],
   "source": [
    "import solara\n",
    "import solara.lab\n",
    "import ingest\n",
    "\n",
    "@solara.component()\n",
    "def DownloadConvertPersist():\n",
    "    twitch_id, set_twitch_id = solara.use_state(\"\")\n",
    "    is_downloading, set_downloading = solara.use_state(False)\n",
    "    status, set_status = solara.use_state(\"\")\n",
    "\n",
    "    def start_download():\n",
    "        set_downloading(True)\n",
    "        set_status(\"\")\n",
    "        ingest.download_twitch_stream(twitch_id, end_time=\"00:05:00\")\n",
    "        ingest.vid_to_frames(twitch_id, use_cuda=False)\n",
    "        set_status(\"Download completed\")\n",
    "        set_downloading(False)\n",
    "    \n",
    "    solara.InputText(\"Select Twitch ID\", twitch_id, set_twitch_id, disabled=is_downloading)\n",
    "    solara.Markdown(f\"You Selected {twitch_id}\")\n",
    "    solara.Button(\"Download\", start_download, disabled=is_downloading)\n",
    "    solara.ProgressLinear(is_downloading)\n",
    "    solara.Text(status)\n",
    "\n",
    "@solara.component()\n",
    "def DatasetR2():\n",
    "    \n",
    "    twitch_id, set_twitch_id = solara.use_state(\"\")\n",
    "    is_downloading, set_downloading = solara.use_state(False)\n",
    "    status, set_status = solara.use_state(\"\")\n",
    "\n",
    "@solara.component()\n",
    "def Page():\n",
    "    with solara.Sidebar():\n",
    "        solara.Title(\"League of Legend Highlight Extractor\")\n",
    "        solara.FileDrop(label=\"Drop R2 Config\")\n",
    "    with solara.lab.Tabs():\n",
    "        with solara.lab.Tab(\"Download, Convert and Persist Twitch Clips\"):\n",
    "            DownloadConvertPersist()\n",
    "        with solara.lab.Tab(\"Download dataset\"):\n",
    "            solara.Markdown(\"Here we'll implement logic!\")\n",
    "        with solara.lab.Tab(\"Train Model\"):\n",
    "            solara.Markdown(\"Here we'll implement logic!\")\n",
    "        with solara.lab.Tab(\"Inference\"):\n",
    "            solara.Markdown(\"Here we'll implement logic!\")\n",
    "\n",
    "Page()"
   ]
  }
 ],
 "metadata": {
  "kernelspec": {
   "display_name": "Python 3",
   "language": "python",
   "name": "python3"
  },
  "language_info": {
   "codemirror_mode": {
    "name": "ipython",
    "version": 3
   },
   "file_extension": ".py",
   "mimetype": "text/x-python",
   "name": "python",
   "nbconvert_exporter": "python",
   "pygments_lexer": "ipython3",
   "version": "3.11.4"
  },
  "orig_nbformat": 4
 },
 "nbformat": 4,
 "nbformat_minor": 2
}
