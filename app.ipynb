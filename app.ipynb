{
 "cells": [
  {
   "cell_type": "code",
   "execution_count": null,
   "metadata": {},
   "outputs": [],
   "source": [
    "!pip install solara"
   ]
  },
  {
   "cell_type": "code",
   "execution_count": null,
   "metadata": {},
   "outputs": [],
   "source": [
    "import solara\n",
    "import solara.lab\n",
    "\n",
    "@solara.component()\n",
    "def DownloadConvertPersist():\n",
    "    twitch_id, set_twitch_id = solara.use_state(\"\")\n",
    "    is_downloading, set_downloading = solara.use_state(False)\n",
    "\n",
    "    def start_download():\n",
    "        set_downloading(True)\n",
    "    \n",
    "    solara.InputText(\"Select Twitch ID\", twitch_id, set_twitch_id, disabled=is_downloading)\n",
    "    solara.Markdown(f\"You Selected {twitch_id}\")\n",
    "    solara.Button(\"Download\", start_download, disabled=is_downloading)\n",
    "    solara.ProgressLinear(is_downloading)\n",
    "\n",
    "@solara.component()\n",
    "def Page():\n",
    "    with solara.Sidebar():\n",
    "        solara.Title(\"League of Legend Highlight Extractor\")\n",
    "    with solara.lab.Tabs():\n",
    "        with solara.lab.Tab(\"Download, Convert and Persist Twitch Clips\"):\n",
    "            DownloadConvertPersist()\n",
    "        with solara.lab.Tab(\"Download dataset\"):\n",
    "            solara.Markdown(\"Here we'll implement logic!\")\n",
    "        with solara.lab.Tab(\"Train Model\"):\n",
    "            solara.Markdown(\"Here we'll implement logic!\")\n",
    "        with solara.lab.Tab(\"Inference\"):\n",
    "            solara.Markdown(\"Here we'll implement logic!\")\n",
    "\n",
    "Page()"
   ]
  }
 ],
 "metadata": {
  "language_info": {
   "name": "python"
  },
  "orig_nbformat": 4
 },
 "nbformat": 4,
 "nbformat_minor": 2
}
