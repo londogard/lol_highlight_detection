{
 "cells": [
  {
   "cell_type": "code",
   "execution_count": null,
   "metadata": {},
   "outputs": [],
   "source": [
    "!pip install solara"
   ]
  },
  {
   "cell_type": "code",
   "execution_count": 1,
   "metadata": {},
   "outputs": [
    {
     "data": {
      "application/javascript": "\nconst prevIframe = document.getElementById(\"solara-jupyter-check\");\nif(prevIframe)\n    prevIframe.remove();\nconst iframe = document.createElement('iframe')\niframe.setAttribute(\"src\", \"https://solara.dev/static/public/success.html?check=purejs\");\niframe.style.width = \"0px\";\niframe.style.height = \"0px\";\niframe.style.display = \"none\";\niframe.id = \"solara-jupyter-check\";\ndocument.body.appendChild(iframe);\n            ",
      "text/plain": [
       "<IPython.core.display.Javascript object>"
      ]
     },
     "metadata": {},
     "output_type": "display_data"
    },
    {
     "data": {
      "application/javascript": "\nconst prevIframe = document.getElementById(\"solara-jupyter-check\");\nif(prevIframe)\n    prevIframe.remove();\nconst iframe = document.createElement('iframe')\niframe.setAttribute(\"src\", \"https://solara.dev/static/public/success.html?check=purejs\");\niframe.style.width = \"0px\";\niframe.style.height = \"0px\";\niframe.style.display = \"none\";\niframe.id = \"solara-jupyter-check\";\ndocument.body.appendChild(iframe);\n            ",
      "text/plain": [
       "<IPython.core.display.Javascript object>"
      ]
     },
     "metadata": {},
     "output_type": "display_data"
    },
    {
     "data": {
      "application/vnd.jupyter.widget-view+json": {
       "model_id": "797d92e3e2fb459f88c115b57a9249e4",
       "version_major": 2,
       "version_minor": 0
      },
      "text/html": [
       "Cannot show widget. You probably want to rerun the code cell above (<i>Click in the code cell, and press Shift+Enter <kbd>⇧</kbd>+<kbd>↩</kbd></i>)."
      ],
      "text/plain": [
       "Cannot show ipywidgets in text"
      ]
     },
     "metadata": {},
     "output_type": "display_data"
    },
    {
     "name": "stderr",
     "output_type": "stream",
     "text": [
      "GPU available: True (mps), used: True\n",
      "TPU available: False, using: 0 TPU cores\n",
      "IPU available: False, using: 0 IPUs\n",
      "HPU available: False, using: 0 HPUs\n"
     ]
    },
    {
     "data": {
      "application/vnd.jupyter.widget-view+json": {
       "model_id": "930fa9c7a1a542fda9b38acd75c23364",
       "version_major": 2,
       "version_minor": 0
      },
      "text/plain": [
       "Predicting: |          | 0/? [00:00<?, ?it/s]"
      ]
     },
     "metadata": {},
     "output_type": "display_data"
    },
    {
     "name": "stderr",
     "output_type": "stream",
     "text": [
      "missing a required argument: 'filename'\n",
      "Traceback (most recent call last):\n",
      "  File \"/Users/londogard/micromamba/envs/highlights/lib/python3.11/site-packages/solara/hooks/use_thread.py\", line 84, in runner\n",
      "    value = f()\n",
      "            ^^^\n",
      "  File \"/Users/londogard/micromamba/envs/highlights/lib/python3.11/site-packages/solara/cache.py\", line 124, in do_work\n",
      "    new_value = self.function(*args, **kwargs)\n",
      "                ^^^^^^^^^^^^^^^^^^^^^^^^^^^^^^\n",
      "  File \"/Users/londogard/git/hlondogard/lol_highlight_detection/solara_app/mini_components/c_inference.py\", line 39, in write_video\n",
      "    vid_clip.write_videofile()\n",
      "  File \"/Users/londogard/micromamba/envs/highlights/lib/python3.11/site-packages/decorator.py\", line 231, in fun\n",
      "    args, kw = fix(args, kw, sig)\n",
      "               ^^^^^^^^^^^^^^^^^^\n",
      "  File \"/Users/londogard/micromamba/envs/highlights/lib/python3.11/site-packages/decorator.py\", line 203, in fix\n",
      "    ba = sig.bind(*args, **kwargs)\n",
      "         ^^^^^^^^^^^^^^^^^^^^^^^^^\n",
      "  File \"/Users/londogard/micromamba/envs/highlights/lib/python3.11/inspect.py\", line 3212, in bind\n",
      "    return self._bind(args, kwargs)\n",
      "           ^^^^^^^^^^^^^^^^^^^^^^^^\n",
      "  File \"/Users/londogard/micromamba/envs/highlights/lib/python3.11/inspect.py\", line 3127, in _bind\n",
      "    raise TypeError(msg) from None\n",
      "TypeError: missing a required argument: 'filename'\n",
      "missing a required argument: 'filename'\n",
      "Traceback (most recent call last):\n",
      "  File \"/Users/londogard/micromamba/envs/highlights/lib/python3.11/site-packages/solara/hooks/use_thread.py\", line 84, in runner\n",
      "    value = f()\n",
      "            ^^^\n",
      "  File \"/Users/londogard/micromamba/envs/highlights/lib/python3.11/site-packages/solara/cache.py\", line 124, in do_work\n",
      "    new_value = self.function(*args, **kwargs)\n",
      "                ^^^^^^^^^^^^^^^^^^^^^^^^^^^^^^\n",
      "  File \"/Users/londogard/git/hlondogard/lol_highlight_detection/solara_app/mini_components/c_inference.py\", line 39, in write_video\n",
      "    vid_clip.write_videofile()\n",
      "  File \"/Users/londogard/micromamba/envs/highlights/lib/python3.11/site-packages/decorator.py\", line 231, in fun\n",
      "    args, kw = fix(args, kw, sig)\n",
      "               ^^^^^^^^^^^^^^^^^^\n",
      "  File \"/Users/londogard/micromamba/envs/highlights/lib/python3.11/site-packages/decorator.py\", line 203, in fix\n",
      "    ba = sig.bind(*args, **kwargs)\n",
      "         ^^^^^^^^^^^^^^^^^^^^^^^^^\n",
      "  File \"/Users/londogard/micromamba/envs/highlights/lib/python3.11/inspect.py\", line 3212, in bind\n",
      "    return self._bind(args, kwargs)\n",
      "           ^^^^^^^^^^^^^^^^^^^^^^^^\n",
      "  File \"/Users/londogard/micromamba/envs/highlights/lib/python3.11/inspect.py\", line 3127, in _bind\n",
      "    raise TypeError(msg) from None\n",
      "TypeError: missing a required argument: 'filename'\n"
     ]
    },
    {
     "data": {
      "application/javascript": "\nconst prevIframe = document.getElementById(\"solara-jupyter-check\");\nif(prevIframe)\n    prevIframe.remove();\nconst iframe = document.createElement('iframe')\niframe.setAttribute(\"src\", \"https://solara.dev/static/public/success.html?check=purejs\");\niframe.style.width = \"0px\";\niframe.style.height = \"0px\";\niframe.style.display = \"none\";\niframe.id = \"solara-jupyter-check\";\ndocument.body.appendChild(iframe);\n            ",
      "text/plain": [
       "<IPython.core.display.Javascript object>"
      ]
     },
     "metadata": {},
     "output_type": "display_data"
    },
    {
     "name": "stderr",
     "output_type": "stream",
     "text": [
      "No such comm: c0bd91838987454d8c5bfce7bbe71993\n"
     ]
    }
   ],
   "source": [
    "from sol_app import Page\n",
    "\n",
    "Page()"
   ]
  }
 ],
 "metadata": {
  "kernelspec": {
   "display_name": "Python 3",
   "language": "python",
   "name": "python3"
  },
  "language_info": {
   "codemirror_mode": {
    "name": "ipython",
    "version": 3
   },
   "file_extension": ".py",
   "mimetype": "text/x-python",
   "name": "python",
   "nbconvert_exporter": "python",
   "pygments_lexer": "ipython3",
   "version": "3.11.6"
  }
 },
 "nbformat": 4,
 "nbformat_minor": 2
}
