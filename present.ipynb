{
 "cells": [
  {
   "cell_type": "raw",
   "metadata": {},
   "source": [
    "---\n",
    "title: \"A Hobbyist's Approach to Automated Highlight Detection in E-Sports\"\n",
    "author: \"Hampus Londögåtd\"\n",
    "format: \n",
    "    revealjs:\n",
    "        incremental: true   \n",
    "---"
   ]
  },
  {
   "cell_type": "markdown",
   "metadata": {},
   "source": [
    "# A Hobbyist's Approach to Automated Highlight Detection in E-Sports \n"
   ]
  },
  {
   "cell_type": "markdown",
   "metadata": {},
   "source": [
    "## The Idea^tm^\n",
    "\n",
    "1. Kid brother wants to get rich and have passive income\n",
    "2. Kid brother enjoys League of Legends and TheBauss (Swedish Streamer)\n",
    "3. Kid brother has an idea, he wants to earn money by YouTube Ads through Highlight Videos\n",
    "4. Know Deep Learning, suggest that I could make it a fun project\n",
    "5. ...\n",
    "6. PROFIT?\n",
    "\n",
    "TODO make circle with images"
   ]
  },
  {
   "cell_type": "markdown",
   "metadata": {},
   "source": []
  },
  {
   "cell_type": "markdown",
   "metadata": {},
   "source": [
    "## Overview\n",
    "\n",
    "- Make flow-chart with images\n",
    "\n",
    "1. Download\n",
    "2. Convert\n",
    "3. Select Model\n",
    "4. Train Model\n",
    "5. Evaluate Model\n",
    "6. Inference\n"
   ]
  },
  {
   "cell_type": "markdown",
   "metadata": {},
   "source": [
    "## Tools used\n",
    "\n",
    "1. FFMPEG\n",
    "2. Polars (crazy good DataFrame)\n",
    "3. LIME (XAI)\n",
    "4. `.parquet` file format\n",
    "5. MLFlow Experiment tracker with DagsHub\n",
    "6. "
   ]
  },
  {
   "cell_type": "markdown",
   "metadata": {},
   "source": [
    "## Challenges\n",
    "\n",
    "1. FFMPEG\n",
    "2. ... splits!\n",
    "3. ...\n",
    "\n",
    "..."
   ]
  },
  {
   "cell_type": "markdown",
   "metadata": {},
   "source": [
    "## Final Result\n",
    "\n",
    "Solara is like Streamlit but integrateable inside notebooks & gives you an React-like interface (more efficent, but \"harder\")\n",
    "\n",
    "\n",
    "..."
   ]
  },
  {
   "cell_type": "markdown",
   "metadata": {},
   "source": []
  },
  {
   "cell_type": "markdown",
   "metadata": {},
   "source": [
    "In this talk, I'll share insights from my personal project over the past few months to build a simple tool for non-technical users that automatically detects highlight moments from LoL streams. Through a live demo and discussion of techniques applied to tasks like video preprocessing, model architecture selection (CNN/RNN), and model evaluation, I'll cover lessons learned from bringing this automated highlight detection idea to life."
   ]
  },
  {
   "cell_type": "code",
   "execution_count": null,
   "metadata": {},
   "outputs": [],
   "source": []
  }
 ],
 "metadata": {
  "language_info": {
   "name": "python"
  },
  "orig_nbformat": 4
 },
 "nbformat": 4,
 "nbformat_minor": 2
}
